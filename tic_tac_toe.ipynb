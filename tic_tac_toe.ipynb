{
  "nbformat": 4,
  "nbformat_minor": 0,
  "metadata": {
    "colab": {
      "provenance": [],
      "authorship_tag": "ABX9TyNRs03TVj0beoTe+gc8vitD",
      "include_colab_link": true
    },
    "kernelspec": {
      "name": "python3",
      "display_name": "Python 3"
    },
    "language_info": {
      "name": "python"
    }
  },
  "cells": [
    {
      "cell_type": "markdown",
      "metadata": {
        "id": "view-in-github",
        "colab_type": "text"
      },
      "source": [
        "<a href=\"https://colab.research.google.com/github/Vyshnavivummidi/CodSoft/blob/main/tic_tac_toe.ipynb\" target=\"_parent\"><img src=\"https://colab.research.google.com/assets/colab-badge.svg\" alt=\"Open In Colab\"/></a>"
      ]
    },
    {
      "cell_type": "code",
      "source": [
        "import random\n",
        "\n",
        "def print_board(board):\n",
        "    for row in board:\n",
        "        print(\" | \".join(row))\n",
        "        print(\"-\" * 9)\n",
        "\n",
        "def check_winner(board):\n",
        "    # Check rows, columns, and diagonals\n",
        "    for i in range(3):\n",
        "        if all(board[i][j] == board[i][0] for j in range(3)) and board[i][0] != ' ':\n",
        "            return board[i][0]\n",
        "        if all(board[j][i] == board[0][i] for j in range(3)) and board[0][i] != ' ':\n",
        "            return board[0][i]\n",
        "    if all(board[i][i] == board[0][0] for i in range(3)) and board[0][0] != ' ':\n",
        "        return board[0][0]\n",
        "    if all(board[i][2 - i] == board[0][2] for i in range(3)) and board[0][2] != ' ':\n",
        "        return board[0][2]\n",
        "    return None\n",
        "\n",
        "def evaluate_board(board):\n",
        "    winner = check_winner(board)\n",
        "    if winner == 'X':\n",
        "        return 1\n",
        "    elif winner == 'O':\n",
        "        return -1\n",
        "    else:\n",
        "        return 0\n",
        "def find_best_move(board):\n",
        "    empty_cells = [(i, j) for i in range(3) for j in range(3) if board[i][j] == ' ']\n",
        "    return random.choice(empty_cells)\n",
        "\n",
        "\n",
        "def play_game():\n",
        "    board = [[' ', ' ', ' '], [' ', ' ', ' '], [' ', ' ', ' ']]\n",
        "    current_player = 'X'\n",
        "\n",
        "    while True:\n",
        "        print_board(board)\n",
        "\n",
        "        if current_player == 'X':\n",
        "            row, col = map(int, input(\"Enter row and column (e.g., 1 2): \").split())\n",
        "            if board[row - 1][col - 1] != ' ':\n",
        "                print(\"Invalid move. Try again.\")\n",
        "                continue\n",
        "            board[row - 1][col - 1] = current_player\n",
        "        else:\n",
        "            row, col = find_best_move(board)\n",
        "            board[row][col] = current_player\n",
        "\n",
        "        winner = check_winner(board)\n",
        "        if winner:\n",
        "            print_board(board)\n",
        "            print(f\"{winner} wins!\")\n",
        "            break\n",
        "\n",
        "        current_player = 'O' if current_player == 'X' else 'X'\n",
        "\n",
        "if __name__ == \"__main__\":\n",
        "    play_game()"
      ],
      "metadata": {
        "colab": {
          "base_uri": "https://localhost:8080/"
        },
        "id": "zXVdm4Bg2edw",
        "outputId": "57eab65e-098c-458f-f920-a423d52e2841"
      },
      "execution_count": 7,
      "outputs": [
        {
          "output_type": "stream",
          "name": "stdout",
          "text": [
            "  |   |  \n",
            "---------\n",
            "  |   |  \n",
            "---------\n",
            "  |   |  \n",
            "---------\n",
            "Enter row and column (e.g., 1 2): 1 3\n",
            "  |   | X\n",
            "---------\n",
            "  |   |  \n",
            "---------\n",
            "  |   |  \n",
            "---------\n",
            "  |   | X\n",
            "---------\n",
            "  | O |  \n",
            "---------\n",
            "  |   |  \n",
            "---------\n",
            "Enter row and column (e.g., 1 2): 1 1\n",
            "X |   | X\n",
            "---------\n",
            "  | O |  \n",
            "---------\n",
            "  |   |  \n",
            "---------\n",
            "X |   | X\n",
            "---------\n",
            "  | O |  \n",
            "---------\n",
            "  | O |  \n",
            "---------\n",
            "Enter row and column (e.g., 1 2): 1 2\n",
            "X | X | X\n",
            "---------\n",
            "  | O |  \n",
            "---------\n",
            "  | O |  \n",
            "---------\n",
            "X wins!\n"
          ]
        }
      ]
    }
  ]
}