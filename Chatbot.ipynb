{
  "nbformat": 4,
  "nbformat_minor": 0,
  "metadata": {
    "colab": {
      "provenance": [],
      "authorship_tag": "ABX9TyP31LkH8ApXWF5j1BQk6Yum",
      "include_colab_link": true
    },
    "kernelspec": {
      "name": "python3",
      "display_name": "Python 3"
    },
    "language_info": {
      "name": "python"
    }
  },
  "cells": [
    {
      "cell_type": "markdown",
      "metadata": {
        "id": "view-in-github",
        "colab_type": "text"
      },
      "source": [
        "<a href=\"https://colab.research.google.com/github/Vyshnavivummidi/CodSoft/blob/main/Chatbot.ipynb\" target=\"_parent\"><img src=\"https://colab.research.google.com/assets/colab-badge.svg\" alt=\"Open In Colab\"/></a>"
      ]
    },
    {
      "cell_type": "code",
      "source": [
        "import random\n",
        "from datetime import datetime\n",
        "import pytz  # Install with `pip install pytz`\n",
        "\n",
        "def chatbot_response(user_input):\n",
        "    # Convert user input to lowercase for easier matching\n",
        "    user_input = user_input.lower()\n",
        "\n",
        "    # Define responses based on user input\n",
        "    if \"hello\" in user_input or \"hi\" in user_input:\n",
        "        return \"Hello! How can I assist you today?\"\n",
        "    elif \"your name\" in user_input:\n",
        "        return \"I am a chatbot created to help you. How can I assist you?\"\n",
        "    elif \"how are you\" in user_input:\n",
        "        return \"I'm just a program, but I'm here and ready to help you!\"\n",
        "    elif \"bye\" in user_input or \"goodbye\" in user_input:\n",
        "        return \"Goodbye! Have a great day!\"\n",
        "    elif \"what is your purpose\" in user_input:\n",
        "        return \"My purpose is to assist you with any questions or provide information as needed.\"\n",
        "    elif \"what time is it\" in user_input or \"current time\" in user_input:\n",
        "        # Get current time in IST\n",
        "        ist = pytz.timezone('Asia/Kolkata')\n",
        "        now = datetime.now(ist)\n",
        "        return f\"The current time is {now.strftime('%H:%M:%S')}.\"\n",
        "    elif \"what day is it\" in user_input:\n",
        "        # Get current date in IST\n",
        "        ist = pytz.timezone('Asia/Kolkata')\n",
        "        today = datetime.now(ist)\n",
        "        return f\"Today is {today.strftime('%A, %B %d, %Y')}.\"\n",
        "    elif \"what can you do\" in user_input:\n",
        "        return \"I can answer questions, provide information, tell jokes, and chat with you about various topics. How can I assist you today?\"\n",
        "    elif \"help\" in user_input:\n",
        "        return \"I can help with a variety of questions. Just ask me something, and I'll do my best to assist you!\"\n",
        "    elif \"tell me a joke\" in user_input or \"crack a joke\" in user_input:\n",
        "        jokes = [\n",
        "            \"Why don’t scientists trust atoms? Because they make up everything!\",\n",
        "            \"Why did the scarecrow win an award? Because he was outstanding in his field!\",\n",
        "            \"What do you call fake spaghetti? An impasta!\",\n",
        "            \"Why did the bicycle fall over? Because it was two-tired!\",\n",
        "            \"What do you get when you cross a snowman with a vampire? Frostbite!\"\n",
        "        ]\n",
        "        return random.choice(jokes)\n",
        "    else:\n",
        "        return \"I'm not sure how to respond to that. Can you ask something else?\"\n",
        "\n",
        "# Main loop to keep the chatbot running\n",
        "def main():\n",
        "    print(\"Chatbot: Hello! Type 'bye' to exit.\")\n",
        "    while True:\n",
        "        user_input = input(\"You: \")\n",
        "        response = chatbot_response(user_input)\n",
        "        print(\"Chatbot:\", response)\n",
        "        if \"bye\" in user_input.lower():\n",
        "            break\n",
        "\n",
        "if __name__ == \"__main__\":\n",
        "    main()\n"
      ],
      "metadata": {
        "colab": {
          "base_uri": "https://localhost:8080/"
        },
        "id": "nip0D3lw1wcF",
        "outputId": "190c4943-e536-48d7-fd27-301448cbfe09"
      },
      "execution_count": null,
      "outputs": [
        {
          "output_type": "stream",
          "name": "stdout",
          "text": [
            "Chatbot: Hello! Type 'bye' to exit.\n",
            "You: hello\n",
            "Chatbot: Hello! How can I assist you today?\n",
            "You: what can you do\n",
            "Chatbot: I can answer questions, provide information, tell jokes, and chat with you about various topics. How can I assist you today?\n",
            "You: current time\n",
            "Chatbot: The current time is 23:59:49.\n",
            "You: what day is it\n",
            "Chatbot: Today is Saturday, August 24, 2024.\n",
            "You: crack a joke\n",
            "Chatbot: What do you get when you cross a snowman with a vampire? Frostbite!\n",
            "You: goodbye\n",
            "Chatbot: Goodbye! Have a great day!\n"
          ]
        }
      ]
    }
  ]
}